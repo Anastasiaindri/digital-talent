{
 "cells": [
  {
   "cell_type": "code",
   "execution_count": 42,
   "metadata": {},
   "outputs": [
    {
     "name": "stdout",
     "output_type": "stream",
     "text": [
      "insert weight (kg):50\n",
      "insert height (kg):170\n",
      "Your BMI =  17.301038062283737\n",
      "Category : Underweight\n",
      "Program Finish\n"
     ]
    }
   ],
   "source": [
    "#Program BMI Calculator\n",
    "\n",
    "Weight = float (input (\"insert weight (kg):\"))\n",
    "Height = float (input (\"insert height (kg):\")) \n",
    "\n",
    "BMI = Weight / (Height/100)**2\n",
    "\n",
    "print (\"Your BMI = \", BMI)\n",
    "\n",
    "if BMI < 15:\n",
    "    print (\"Category : Very severely underweight\")\n",
    "elif BMI >= 15 and BMI < 16:\n",
    "    print (\"Category : Severely underweight\")\n",
    "elif BMI >= 16 and BMI < 18.5:\n",
    "    print (\"Category : Underweight\")\n",
    "elif BMI >= 18.5 and BMI < 25:\n",
    "    print (\"Category : Normal (healthy weight)\")\n",
    "elif BMI >= 25 and BMI < 30:\n",
    "    print (\"Category : Overweight\")\n",
    "elif BMI >= 30 and BMI < 35:\n",
    "    print (\"Category : Moderately obese\")\n",
    "elif BMI >= 35 and BMI < 40:\n",
    "    print (\"Category : Severely obese\")\n",
    "elif BMI >= 40:\n",
    "    print (\"Category : Very severely obese\")\n",
    "\n",
    "print (\"Program Finish\")    \n"
   ]
  },
  {
   "cell_type": "code",
   "execution_count": null,
   "metadata": {},
   "outputs": [],
   "source": []
  },
  {
   "cell_type": "code",
   "execution_count": null,
   "metadata": {},
   "outputs": [],
   "source": []
  }
 ],
 "metadata": {
  "kernelspec": {
   "display_name": "Python 3",
   "language": "python",
   "name": "python3"
  },
  "language_info": {
   "codemirror_mode": {
    "name": "ipython",
    "version": 3
   },
   "file_extension": ".py",
   "mimetype": "text/x-python",
   "name": "python",
   "nbconvert_exporter": "python",
   "pygments_lexer": "ipython3",
   "version": "3.7.0"
  }
 },
 "nbformat": 4,
 "nbformat_minor": 2
}
