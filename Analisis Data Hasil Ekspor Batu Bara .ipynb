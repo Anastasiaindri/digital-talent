{
 "cells": [
  {
   "cell_type": "markdown",
   "metadata": {},
   "source": [
    "Berikut adalah analisa data Data Hasil Ekspor Batu Bara dari Tahun 2003 -  2010. \n",
    "<br>*sumber data*:  http://data.go.id."
   ]
  },
  {
   "cell_type": "markdown",
   "metadata": {},
   "source": [
    "# Deskripsi Data"
   ]
  },
  {
   "cell_type": "code",
   "execution_count": 20,
   "metadata": {
    "scrolled": false
   },
   "outputs": [
    {
     "name": "stdout",
     "output_type": "stream",
     "text": [
      "Dibawah ini merupakan Data Hasil Ekspor Batu Bara dari Tahun 2003 -  2010\n"
     ]
    },
    {
     "data": {
      "text/html": [
       "<div>\n",
       "<style scoped>\n",
       "    .dataframe tbody tr th:only-of-type {\n",
       "        vertical-align: middle;\n",
       "    }\n",
       "\n",
       "    .dataframe tbody tr th {\n",
       "        vertical-align: top;\n",
       "    }\n",
       "\n",
       "    .dataframe thead th {\n",
       "        text-align: right;\n",
       "    }\n",
       "</style>\n",
       "<table border=\"1\" class=\"dataframe\">\n",
       "  <thead>\n",
       "    <tr style=\"text-align: right;\">\n",
       "      <th></th>\n",
       "      <th>tipe_entitas</th>\n",
       "      <th>nama_entitas</th>\n",
       "      <th>tahun</th>\n",
       "      <th>nilai</th>\n",
       "    </tr>\n",
       "  </thead>\n",
       "  <tbody>\n",
       "    <tr>\n",
       "      <th>0</th>\n",
       "      <td>BUMN</td>\n",
       "      <td>Bukit Asam</td>\n",
       "      <td>2003</td>\n",
       "      <td>NaN</td>\n",
       "    </tr>\n",
       "    <tr>\n",
       "      <th>1</th>\n",
       "      <td>BUMN</td>\n",
       "      <td>Bukit Asam - Ombilin</td>\n",
       "      <td>2003</td>\n",
       "      <td>NaN</td>\n",
       "    </tr>\n",
       "    <tr>\n",
       "      <th>2</th>\n",
       "      <td>BUMN</td>\n",
       "      <td>Bukit Asam - Tanjung Enim - Antrasit</td>\n",
       "      <td>2003</td>\n",
       "      <td>2360806.00</td>\n",
       "    </tr>\n",
       "    <tr>\n",
       "      <th>3</th>\n",
       "      <td>Kontraktor</td>\n",
       "      <td>Adaro Indonesia, PT</td>\n",
       "      <td>2003</td>\n",
       "      <td>15187110.00</td>\n",
       "    </tr>\n",
       "    <tr>\n",
       "      <th>4</th>\n",
       "      <td>Kontraktor</td>\n",
       "      <td>Allied Indo Coal, PT</td>\n",
       "      <td>2003</td>\n",
       "      <td>NaN</td>\n",
       "    </tr>\n",
       "    <tr>\n",
       "      <th>5</th>\n",
       "      <td>Kontraktor</td>\n",
       "      <td>Antang Gunung Meratus, PT</td>\n",
       "      <td>2003</td>\n",
       "      <td>NaN</td>\n",
       "    </tr>\n",
       "    <tr>\n",
       "      <th>6</th>\n",
       "      <td>Kontraktor</td>\n",
       "      <td>Arutmin Indonesia, PT</td>\n",
       "      <td>2003</td>\n",
       "      <td>12987344.00</td>\n",
       "    </tr>\n",
       "    <tr>\n",
       "      <th>7</th>\n",
       "      <td>Kontraktor</td>\n",
       "      <td>Asmin Koalindo Tuhup, PT</td>\n",
       "      <td>2003</td>\n",
       "      <td>NaN</td>\n",
       "    </tr>\n",
       "    <tr>\n",
       "      <th>8</th>\n",
       "      <td>Kontraktor</td>\n",
       "      <td>Bahari Cakrawala Sebuku, PT</td>\n",
       "      <td>2003</td>\n",
       "      <td>1885245.00</td>\n",
       "    </tr>\n",
       "    <tr>\n",
       "      <th>9</th>\n",
       "      <td>Kontraktor</td>\n",
       "      <td>Bangun Banua Persada Kalimantan, PT</td>\n",
       "      <td>2003</td>\n",
       "      <td>NaN</td>\n",
       "    </tr>\n",
       "    <tr>\n",
       "      <th>10</th>\n",
       "      <td>Kontraktor</td>\n",
       "      <td>Baramarta, PD</td>\n",
       "      <td>2003</td>\n",
       "      <td>719233.82</td>\n",
       "    </tr>\n",
       "    <tr>\n",
       "      <th>11</th>\n",
       "      <td>Kontraktor</td>\n",
       "      <td>Baramulti Suksessarana, PT</td>\n",
       "      <td>2003</td>\n",
       "      <td>NaN</td>\n",
       "    </tr>\n",
       "    <tr>\n",
       "      <th>12</th>\n",
       "      <td>Kontraktor</td>\n",
       "      <td>Batualam Selaras, PT</td>\n",
       "      <td>2003</td>\n",
       "      <td>NaN</td>\n",
       "    </tr>\n",
       "    <tr>\n",
       "      <th>13</th>\n",
       "      <td>Kontraktor</td>\n",
       "      <td>Berau Coal, PT</td>\n",
       "      <td>2003</td>\n",
       "      <td>4266215.00</td>\n",
       "    </tr>\n",
       "    <tr>\n",
       "      <th>14</th>\n",
       "      <td>Kontraktor</td>\n",
       "      <td>Borneo Indobara, PT</td>\n",
       "      <td>2003</td>\n",
       "      <td>NaN</td>\n",
       "    </tr>\n",
       "    <tr>\n",
       "      <th>15</th>\n",
       "      <td>Kontraktor</td>\n",
       "      <td>Firman Ketaun Perkasa, PT</td>\n",
       "      <td>2003</td>\n",
       "      <td>NaN</td>\n",
       "    </tr>\n",
       "    <tr>\n",
       "      <th>16</th>\n",
       "      <td>Kontraktor</td>\n",
       "      <td>Gunung Bayan Pratamacoal, PT</td>\n",
       "      <td>2003</td>\n",
       "      <td>3538810.10</td>\n",
       "    </tr>\n",
       "    <tr>\n",
       "      <th>17</th>\n",
       "      <td>Kontraktor</td>\n",
       "      <td>Indominco Mandiri, PT</td>\n",
       "      <td>2003</td>\n",
       "      <td>4787412.00</td>\n",
       "    </tr>\n",
       "    <tr>\n",
       "      <th>18</th>\n",
       "      <td>Kontraktor</td>\n",
       "      <td>Insani Bara Perkasa, PT</td>\n",
       "      <td>2003</td>\n",
       "      <td>NaN</td>\n",
       "    </tr>\n",
       "    <tr>\n",
       "      <th>19</th>\n",
       "      <td>Kontraktor</td>\n",
       "      <td>Interex Sacra Raya, PT</td>\n",
       "      <td>2003</td>\n",
       "      <td>NaN</td>\n",
       "    </tr>\n",
       "    <tr>\n",
       "      <th>20</th>\n",
       "      <td>Kontraktor</td>\n",
       "      <td>Intitirta Primasakti, PT</td>\n",
       "      <td>2003</td>\n",
       "      <td>NaN</td>\n",
       "    </tr>\n",
       "    <tr>\n",
       "      <th>21</th>\n",
       "      <td>Kontraktor</td>\n",
       "      <td>Jorong Barutama Greston, PT</td>\n",
       "      <td>2003</td>\n",
       "      <td>1961305.00</td>\n",
       "    </tr>\n",
       "    <tr>\n",
       "      <th>22</th>\n",
       "      <td>Kontraktor</td>\n",
       "      <td>Kadya Caraka Mulia, PT</td>\n",
       "      <td>2003</td>\n",
       "      <td>NaN</td>\n",
       "    </tr>\n",
       "    <tr>\n",
       "      <th>23</th>\n",
       "      <td>Kontraktor</td>\n",
       "      <td>Kalimantan Energi Lestari, PT</td>\n",
       "      <td>2003</td>\n",
       "      <td>NaN</td>\n",
       "    </tr>\n",
       "    <tr>\n",
       "      <th>24</th>\n",
       "      <td>Kontraktor</td>\n",
       "      <td>Kaltim Prima Coal, PT</td>\n",
       "      <td>2003</td>\n",
       "      <td>16033799.00</td>\n",
       "    </tr>\n",
       "    <tr>\n",
       "      <th>25</th>\n",
       "      <td>Kontraktor</td>\n",
       "      <td>Kartika Selabumi Mining, PT</td>\n",
       "      <td>2003</td>\n",
       "      <td>NaN</td>\n",
       "    </tr>\n",
       "    <tr>\n",
       "      <th>26</th>\n",
       "      <td>Kontraktor</td>\n",
       "      <td>Kendilo Coal Indonesia, PT</td>\n",
       "      <td>2003</td>\n",
       "      <td>NaN</td>\n",
       "    </tr>\n",
       "    <tr>\n",
       "      <th>27</th>\n",
       "      <td>Kontraktor</td>\n",
       "      <td>Kideco Jaya Agung, PT</td>\n",
       "      <td>2003</td>\n",
       "      <td>8700448.00</td>\n",
       "    </tr>\n",
       "    <tr>\n",
       "      <th>28</th>\n",
       "      <td>Kontraktor</td>\n",
       "      <td>Lanna Harita Indonesia, PT</td>\n",
       "      <td>2003</td>\n",
       "      <td>1163517.00</td>\n",
       "    </tr>\n",
       "    <tr>\n",
       "      <th>29</th>\n",
       "      <td>Kontraktor</td>\n",
       "      <td>Mahakam Sumber Jaya, PT</td>\n",
       "      <td>2003</td>\n",
       "      <td>NaN</td>\n",
       "    </tr>\n",
       "    <tr>\n",
       "      <th>...</th>\n",
       "      <td>...</td>\n",
       "      <td>...</td>\n",
       "      <td>...</td>\n",
       "      <td>...</td>\n",
       "    </tr>\n",
       "    <tr>\n",
       "      <th>426</th>\n",
       "      <td>Kontraktor</td>\n",
       "      <td>Kideco Jaya Agung, PT</td>\n",
       "      <td>2010</td>\n",
       "      <td>3739328.00</td>\n",
       "    </tr>\n",
       "    <tr>\n",
       "      <th>427</th>\n",
       "      <td>Kontraktor</td>\n",
       "      <td>Lanna Harita Indonesia, PT</td>\n",
       "      <td>2010</td>\n",
       "      <td>488085.00</td>\n",
       "    </tr>\n",
       "    <tr>\n",
       "      <th>428</th>\n",
       "      <td>Kontraktor</td>\n",
       "      <td>Mahakam Sumber Jaya, PT</td>\n",
       "      <td>2010</td>\n",
       "      <td>1187935.00</td>\n",
       "    </tr>\n",
       "    <tr>\n",
       "      <th>429</th>\n",
       "      <td>Kontraktor</td>\n",
       "      <td>Mandiri Intiperkasa, PT</td>\n",
       "      <td>2010</td>\n",
       "      <td>755433.84</td>\n",
       "    </tr>\n",
       "    <tr>\n",
       "      <th>430</th>\n",
       "      <td>Kontraktor</td>\n",
       "      <td>Mantimin Coal Mining, PT</td>\n",
       "      <td>2010</td>\n",
       "      <td>NaN</td>\n",
       "    </tr>\n",
       "    <tr>\n",
       "      <th>431</th>\n",
       "      <td>Kontraktor</td>\n",
       "      <td>Marunda Graha Mineral, PT</td>\n",
       "      <td>2010</td>\n",
       "      <td>733372.00</td>\n",
       "    </tr>\n",
       "    <tr>\n",
       "      <th>432</th>\n",
       "      <td>Kontraktor</td>\n",
       "      <td>Multi Harapan Utama, PT</td>\n",
       "      <td>2010</td>\n",
       "      <td>193921.00</td>\n",
       "    </tr>\n",
       "    <tr>\n",
       "      <th>433</th>\n",
       "      <td>Kontraktor</td>\n",
       "      <td>Multi Tambangjaya Utama, PT</td>\n",
       "      <td>2010</td>\n",
       "      <td>63416.81</td>\n",
       "    </tr>\n",
       "    <tr>\n",
       "      <th>434</th>\n",
       "      <td>Kontraktor</td>\n",
       "      <td>Nusantara Termal Coal, PT</td>\n",
       "      <td>2010</td>\n",
       "      <td>NaN</td>\n",
       "    </tr>\n",
       "    <tr>\n",
       "      <th>435</th>\n",
       "      <td>Kontraktor</td>\n",
       "      <td>Pendopo Energi Batubara (D/H Pt Barito Putra)</td>\n",
       "      <td>2010</td>\n",
       "      <td>NaN</td>\n",
       "    </tr>\n",
       "    <tr>\n",
       "      <th>436</th>\n",
       "      <td>Kontraktor</td>\n",
       "      <td>Perkasa Inakakerta, PT</td>\n",
       "      <td>2010</td>\n",
       "      <td>375758.00</td>\n",
       "    </tr>\n",
       "    <tr>\n",
       "      <th>437</th>\n",
       "      <td>Kontraktor</td>\n",
       "      <td>Pesona Khatulistiwa Nusantara (D/H Astra Binab...</td>\n",
       "      <td>2010</td>\n",
       "      <td>NaN</td>\n",
       "    </tr>\n",
       "    <tr>\n",
       "      <th>438</th>\n",
       "      <td>Kontraktor</td>\n",
       "      <td>Riau Bara Harum, PT</td>\n",
       "      <td>2010</td>\n",
       "      <td>812290.00</td>\n",
       "    </tr>\n",
       "    <tr>\n",
       "      <th>439</th>\n",
       "      <td>Kontraktor</td>\n",
       "      <td>Santan Batubara, PT</td>\n",
       "      <td>2010</td>\n",
       "      <td>546620.00</td>\n",
       "    </tr>\n",
       "    <tr>\n",
       "      <th>440</th>\n",
       "      <td>Kontraktor</td>\n",
       "      <td>Senamas Energindo Mulia, PT</td>\n",
       "      <td>2010</td>\n",
       "      <td>NaN</td>\n",
       "    </tr>\n",
       "    <tr>\n",
       "      <th>441</th>\n",
       "      <td>Kontraktor</td>\n",
       "      <td>Singlurus Pratama, PT</td>\n",
       "      <td>2010</td>\n",
       "      <td>336404.51</td>\n",
       "    </tr>\n",
       "    <tr>\n",
       "      <th>442</th>\n",
       "      <td>Kontraktor</td>\n",
       "      <td>Sumber Kurnia Buana, PT</td>\n",
       "      <td>2010</td>\n",
       "      <td>NaN</td>\n",
       "    </tr>\n",
       "    <tr>\n",
       "      <th>443</th>\n",
       "      <td>Kontraktor</td>\n",
       "      <td>Tanito Harum, PT</td>\n",
       "      <td>2010</td>\n",
       "      <td>632539.00</td>\n",
       "    </tr>\n",
       "    <tr>\n",
       "      <th>444</th>\n",
       "      <td>Kontraktor</td>\n",
       "      <td>Tanjung Alam Jaya, PT</td>\n",
       "      <td>2010</td>\n",
       "      <td>NaN</td>\n",
       "    </tr>\n",
       "    <tr>\n",
       "      <th>445</th>\n",
       "      <td>Kontraktor</td>\n",
       "      <td>Teguh Sinar Abadi, PT</td>\n",
       "      <td>2010</td>\n",
       "      <td>270839.00</td>\n",
       "    </tr>\n",
       "    <tr>\n",
       "      <th>446</th>\n",
       "      <td>Kontraktor</td>\n",
       "      <td>Trubaindo Coal Mining, PT</td>\n",
       "      <td>2010</td>\n",
       "      <td>921194.00</td>\n",
       "    </tr>\n",
       "    <tr>\n",
       "      <th>447</th>\n",
       "      <td>Kontraktor</td>\n",
       "      <td>Wahana Baratama Mining, PT</td>\n",
       "      <td>2010</td>\n",
       "      <td>647474.00</td>\n",
       "    </tr>\n",
       "    <tr>\n",
       "      <th>448</th>\n",
       "      <td>Kuasa Pertambangan Swasta</td>\n",
       "      <td>Prov. Bengkulu</td>\n",
       "      <td>2010</td>\n",
       "      <td>NaN</td>\n",
       "    </tr>\n",
       "    <tr>\n",
       "      <th>449</th>\n",
       "      <td>Kuasa Pertambangan Swasta</td>\n",
       "      <td>Prov. Jambi</td>\n",
       "      <td>2010</td>\n",
       "      <td>NaN</td>\n",
       "    </tr>\n",
       "    <tr>\n",
       "      <th>450</th>\n",
       "      <td>Kuasa Pertambangan Swasta</td>\n",
       "      <td>Prov. Kalimantan Selatan</td>\n",
       "      <td>2010</td>\n",
       "      <td>NaN</td>\n",
       "    </tr>\n",
       "    <tr>\n",
       "      <th>451</th>\n",
       "      <td>Kuasa Pertambangan Swasta</td>\n",
       "      <td>Prov. Kalimantan Tengah</td>\n",
       "      <td>2010</td>\n",
       "      <td>NaN</td>\n",
       "    </tr>\n",
       "    <tr>\n",
       "      <th>452</th>\n",
       "      <td>Kuasa Pertambangan Swasta</td>\n",
       "      <td>Prov. Kalimantan Timur</td>\n",
       "      <td>2010</td>\n",
       "      <td>2843993.90</td>\n",
       "    </tr>\n",
       "    <tr>\n",
       "      <th>453</th>\n",
       "      <td>Kuasa Pertambangan Swasta</td>\n",
       "      <td>Prov. Riau</td>\n",
       "      <td>2010</td>\n",
       "      <td>NaN</td>\n",
       "    </tr>\n",
       "    <tr>\n",
       "      <th>454</th>\n",
       "      <td>Kuasa Pertambangan Swasta</td>\n",
       "      <td>Prov. Sumatera Barat</td>\n",
       "      <td>2010</td>\n",
       "      <td>NaN</td>\n",
       "    </tr>\n",
       "    <tr>\n",
       "      <th>455</th>\n",
       "      <td>Kuasa Pertambangan Swasta</td>\n",
       "      <td>Prov. Sumatera Selatan</td>\n",
       "      <td>2010</td>\n",
       "      <td>NaN</td>\n",
       "    </tr>\n",
       "  </tbody>\n",
       "</table>\n",
       "<p>456 rows × 4 columns</p>\n",
       "</div>"
      ],
      "text/plain": [
       "                  tipe_entitas  \\\n",
       "0                         BUMN   \n",
       "1                         BUMN   \n",
       "2                         BUMN   \n",
       "3                   Kontraktor   \n",
       "4                   Kontraktor   \n",
       "5                   Kontraktor   \n",
       "6                   Kontraktor   \n",
       "7                   Kontraktor   \n",
       "8                   Kontraktor   \n",
       "9                   Kontraktor   \n",
       "10                  Kontraktor   \n",
       "11                  Kontraktor   \n",
       "12                  Kontraktor   \n",
       "13                  Kontraktor   \n",
       "14                  Kontraktor   \n",
       "15                  Kontraktor   \n",
       "16                  Kontraktor   \n",
       "17                  Kontraktor   \n",
       "18                  Kontraktor   \n",
       "19                  Kontraktor   \n",
       "20                  Kontraktor   \n",
       "21                  Kontraktor   \n",
       "22                  Kontraktor   \n",
       "23                  Kontraktor   \n",
       "24                  Kontraktor   \n",
       "25                  Kontraktor   \n",
       "26                  Kontraktor   \n",
       "27                  Kontraktor   \n",
       "28                  Kontraktor   \n",
       "29                  Kontraktor   \n",
       "..                         ...   \n",
       "426                 Kontraktor   \n",
       "427                 Kontraktor   \n",
       "428                 Kontraktor   \n",
       "429                 Kontraktor   \n",
       "430                 Kontraktor   \n",
       "431                 Kontraktor   \n",
       "432                 Kontraktor   \n",
       "433                 Kontraktor   \n",
       "434                 Kontraktor   \n",
       "435                 Kontraktor   \n",
       "436                 Kontraktor   \n",
       "437                 Kontraktor   \n",
       "438                 Kontraktor   \n",
       "439                 Kontraktor   \n",
       "440                 Kontraktor   \n",
       "441                 Kontraktor   \n",
       "442                 Kontraktor   \n",
       "443                 Kontraktor   \n",
       "444                 Kontraktor   \n",
       "445                 Kontraktor   \n",
       "446                 Kontraktor   \n",
       "447                 Kontraktor   \n",
       "448  Kuasa Pertambangan Swasta   \n",
       "449  Kuasa Pertambangan Swasta   \n",
       "450  Kuasa Pertambangan Swasta   \n",
       "451  Kuasa Pertambangan Swasta   \n",
       "452  Kuasa Pertambangan Swasta   \n",
       "453  Kuasa Pertambangan Swasta   \n",
       "454  Kuasa Pertambangan Swasta   \n",
       "455  Kuasa Pertambangan Swasta   \n",
       "\n",
       "                                          nama_entitas  tahun        nilai  \n",
       "0                                           Bukit Asam   2003          NaN  \n",
       "1                                 Bukit Asam - Ombilin   2003          NaN  \n",
       "2                 Bukit Asam - Tanjung Enim - Antrasit   2003   2360806.00  \n",
       "3                                  Adaro Indonesia, PT   2003  15187110.00  \n",
       "4                                 Allied Indo Coal, PT   2003          NaN  \n",
       "5                            Antang Gunung Meratus, PT   2003          NaN  \n",
       "6                                Arutmin Indonesia, PT   2003  12987344.00  \n",
       "7                             Asmin Koalindo Tuhup, PT   2003          NaN  \n",
       "8                          Bahari Cakrawala Sebuku, PT   2003   1885245.00  \n",
       "9                  Bangun Banua Persada Kalimantan, PT   2003          NaN  \n",
       "10                                       Baramarta, PD   2003    719233.82  \n",
       "11                          Baramulti Suksessarana, PT   2003          NaN  \n",
       "12                                Batualam Selaras, PT   2003          NaN  \n",
       "13                                      Berau Coal, PT   2003   4266215.00  \n",
       "14                                 Borneo Indobara, PT   2003          NaN  \n",
       "15                           Firman Ketaun Perkasa, PT   2003          NaN  \n",
       "16                        Gunung Bayan Pratamacoal, PT   2003   3538810.10  \n",
       "17                               Indominco Mandiri, PT   2003   4787412.00  \n",
       "18                             Insani Bara Perkasa, PT   2003          NaN  \n",
       "19                              Interex Sacra Raya, PT   2003          NaN  \n",
       "20                            Intitirta Primasakti, PT   2003          NaN  \n",
       "21                         Jorong Barutama Greston, PT   2003   1961305.00  \n",
       "22                              Kadya Caraka Mulia, PT   2003          NaN  \n",
       "23                       Kalimantan Energi Lestari, PT   2003          NaN  \n",
       "24                               Kaltim Prima Coal, PT   2003  16033799.00  \n",
       "25                         Kartika Selabumi Mining, PT   2003          NaN  \n",
       "26                          Kendilo Coal Indonesia, PT   2003          NaN  \n",
       "27                               Kideco Jaya Agung, PT   2003   8700448.00  \n",
       "28                          Lanna Harita Indonesia, PT   2003   1163517.00  \n",
       "29                             Mahakam Sumber Jaya, PT   2003          NaN  \n",
       "..                                                 ...    ...          ...  \n",
       "426                              Kideco Jaya Agung, PT   2010   3739328.00  \n",
       "427                         Lanna Harita Indonesia, PT   2010    488085.00  \n",
       "428                            Mahakam Sumber Jaya, PT   2010   1187935.00  \n",
       "429                            Mandiri Intiperkasa, PT   2010    755433.84  \n",
       "430                           Mantimin Coal Mining, PT   2010          NaN  \n",
       "431                          Marunda Graha Mineral, PT   2010    733372.00  \n",
       "432                            Multi Harapan Utama, PT   2010    193921.00  \n",
       "433                        Multi Tambangjaya Utama, PT   2010     63416.81  \n",
       "434                          Nusantara Termal Coal, PT   2010          NaN  \n",
       "435      Pendopo Energi Batubara (D/H Pt Barito Putra)   2010          NaN  \n",
       "436                             Perkasa Inakakerta, PT   2010    375758.00  \n",
       "437  Pesona Khatulistiwa Nusantara (D/H Astra Binab...   2010          NaN  \n",
       "438                                Riau Bara Harum, PT   2010    812290.00  \n",
       "439                                Santan Batubara, PT   2010    546620.00  \n",
       "440                        Senamas Energindo Mulia, PT   2010          NaN  \n",
       "441                              Singlurus Pratama, PT   2010    336404.51  \n",
       "442                            Sumber Kurnia Buana, PT   2010          NaN  \n",
       "443                                   Tanito Harum, PT   2010    632539.00  \n",
       "444                              Tanjung Alam Jaya, PT   2010          NaN  \n",
       "445                              Teguh Sinar Abadi, PT   2010    270839.00  \n",
       "446                          Trubaindo Coal Mining, PT   2010    921194.00  \n",
       "447                         Wahana Baratama Mining, PT   2010    647474.00  \n",
       "448                                     Prov. Bengkulu   2010          NaN  \n",
       "449                                        Prov. Jambi   2010          NaN  \n",
       "450                           Prov. Kalimantan Selatan   2010          NaN  \n",
       "451                            Prov. Kalimantan Tengah   2010          NaN  \n",
       "452                             Prov. Kalimantan Timur   2010   2843993.90  \n",
       "453                                         Prov. Riau   2010          NaN  \n",
       "454                               Prov. Sumatera Barat   2010          NaN  \n",
       "455                             Prov. Sumatera Selatan   2010          NaN  \n",
       "\n",
       "[456 rows x 4 columns]"
      ]
     },
     "execution_count": 20,
     "metadata": {},
     "output_type": "execute_result"
    }
   ],
   "source": [
    "import pandas as pd\n",
    "import os\n",
    "\n",
    "print ('Dibawah ini merupakan Data Hasil Ekspor Batu Bara dari Tahun 2003 -  2010')\n",
    "\n",
    "data_ekspor = pd.read_csv('processed-ekspor-batubara-2003-2010.csv', delimiter = ',', encoding = \"ISO-8859-1\")\n",
    "\n",
    "data_ekspor"
   ]
  },
  {
   "cell_type": "markdown",
   "metadata": {},
   "source": [
    "Penjelasan mengenai Variabel pada Dataset ini: \n",
    "1. tipe_entitas: Tipe Entitas \n",
    "2. nama_entitas: Nama Entitas \n",
    "3. tahun: Tahun \n",
    "4. nilai: Nilai "
   ]
  },
  {
   "cell_type": "markdown",
   "metadata": {},
   "source": [
    "# Statistik Data dan Visualisasi Sederhana"
   ]
  },
  {
   "cell_type": "markdown",
   "metadata": {},
   "source": [
    "# 1. Total Hasil Ekspor "
   ]
  },
  {
   "cell_type": "markdown",
   "metadata": {},
   "source": [
    " 1.1 Total hasil Ekspor per Tahun (dalam Ribuan Ton)"
   ]
  },
  {
   "cell_type": "code",
   "execution_count": 23,
   "metadata": {},
   "outputs": [
    {
     "data": {
      "text/html": [
       "<div>\n",
       "<style scoped>\n",
       "    .dataframe tbody tr th:only-of-type {\n",
       "        vertical-align: middle;\n",
       "    }\n",
       "\n",
       "    .dataframe tbody tr th {\n",
       "        vertical-align: top;\n",
       "    }\n",
       "\n",
       "    .dataframe thead th {\n",
       "        text-align: right;\n",
       "    }\n",
       "</style>\n",
       "<table border=\"1\" class=\"dataframe\">\n",
       "  <thead>\n",
       "    <tr style=\"text-align: right;\">\n",
       "      <th></th>\n",
       "      <th>nilai</th>\n",
       "    </tr>\n",
       "    <tr>\n",
       "      <th>tahun</th>\n",
       "      <th></th>\n",
       "    </tr>\n",
       "  </thead>\n",
       "  <tbody>\n",
       "    <tr>\n",
       "      <th>2003</th>\n",
       "      <td>7.699021e+07</td>\n",
       "    </tr>\n",
       "    <tr>\n",
       "      <th>2004</th>\n",
       "      <td>8.920812e+07</td>\n",
       "    </tr>\n",
       "    <tr>\n",
       "      <th>2005</th>\n",
       "      <td>1.010192e+08</td>\n",
       "    </tr>\n",
       "    <tr>\n",
       "      <th>2006</th>\n",
       "      <td>1.229508e+08</td>\n",
       "    </tr>\n",
       "    <tr>\n",
       "      <th>2007</th>\n",
       "      <td>1.362370e+08</td>\n",
       "    </tr>\n",
       "    <tr>\n",
       "      <th>2008</th>\n",
       "      <td>1.393674e+08</td>\n",
       "    </tr>\n",
       "    <tr>\n",
       "      <th>2009</th>\n",
       "      <td>1.683151e+08</td>\n",
       "    </tr>\n",
       "    <tr>\n",
       "      <th>2010</th>\n",
       "      <td>4.773316e+07</td>\n",
       "    </tr>\n",
       "  </tbody>\n",
       "</table>\n",
       "</div>"
      ],
      "text/plain": [
       "              nilai\n",
       "tahun              \n",
       "2003   7.699021e+07\n",
       "2004   8.920812e+07\n",
       "2005   1.010192e+08\n",
       "2006   1.229508e+08\n",
       "2007   1.362370e+08\n",
       "2008   1.393674e+08\n",
       "2009   1.683151e+08\n",
       "2010   4.773316e+07"
      ]
     },
     "execution_count": 23,
     "metadata": {},
     "output_type": "execute_result"
    }
   ],
   "source": [
    "data_ekspor.groupby('tahun').sum()"
   ]
  },
  {
   "cell_type": "code",
   "execution_count": 48,
   "metadata": {},
   "outputs": [
    {
     "data": {
      "text/plain": [
       "Text(0,0.5,'Nilai')"
      ]
     },
     "execution_count": 48,
     "metadata": {},
     "output_type": "execute_result"
    },
    {
     "data": {
      "image/png": "[encoded data removed]",
      "text/plain": [
       "<Figure size 432x288 with 1 Axes>"
      ]
     },
     "metadata": {
      "needs_background": "light"
     },
     "output_type": "display_data"
    }
   ],
   "source": [
    "ax = data_ekspor.groupby('tahun').sum()['nilai']\n",
    "ax = ax.plot(kind='bar', title =\"Hasil Ekspor Berdasarkan Tahun\", legend=True, fontsize=12)\n",
    "ax.set_xlabel(\"Tahun\", fontsize=12)\n",
    "ax.set_ylabel(\"Nilai\", fontsize=12)"
   ]
  },
  {
   "cell_type": "markdown",
   "metadata": {},
   "source": [
    "1.2 Total Hasil Ekspor Per Tipe Entitas dari Tahun 2003 - 2010"
   ]
  },
  {
   "cell_type": "code",
   "execution_count": 44,
   "metadata": {},
   "outputs": [
    {
     "data": {
      "text/html": [
       "<div>\n",
       "<style scoped>\n",
       "    .dataframe tbody tr th:only-of-type {\n",
       "        vertical-align: middle;\n",
       "    }\n",
       "\n",
       "    .dataframe tbody tr th {\n",
       "        vertical-align: top;\n",
       "    }\n",
       "\n",
       "    .dataframe thead th {\n",
       "        text-align: right;\n",
       "    }\n",
       "</style>\n",
       "<table border=\"1\" class=\"dataframe\">\n",
       "  <thead>\n",
       "    <tr style=\"text-align: right;\">\n",
       "      <th></th>\n",
       "      <th>tahun</th>\n",
       "      <th>nilai</th>\n",
       "    </tr>\n",
       "    <tr>\n",
       "      <th>tipe_entitas</th>\n",
       "      <th></th>\n",
       "      <th></th>\n",
       "    </tr>\n",
       "  </thead>\n",
       "  <tbody>\n",
       "    <tr>\n",
       "      <th>BUMN</th>\n",
       "      <td>48156</td>\n",
       "      <td>2.391925e+07</td>\n",
       "    </tr>\n",
       "    <tr>\n",
       "      <th>Kontraktor</th>\n",
       "      <td>738392</td>\n",
       "      <td>8.483718e+08</td>\n",
       "    </tr>\n",
       "    <tr>\n",
       "      <th>Kuasa Pertambangan Swasta</th>\n",
       "      <td>128416</td>\n",
       "      <td>9.529824e+06</td>\n",
       "    </tr>\n",
       "  </tbody>\n",
       "</table>\n",
       "</div>"
      ],
      "text/plain": [
       "                            tahun         nilai\n",
       "tipe_entitas                                   \n",
       "BUMN                        48156  2.391925e+07\n",
       "Kontraktor                 738392  8.483718e+08\n",
       "Kuasa Pertambangan Swasta  128416  9.529824e+06"
      ]
     },
     "execution_count": 44,
     "metadata": {},
     "output_type": "execute_result"
    }
   ],
   "source": [
    "data_ekspor.groupby(['tipe_entitas']).sum()"
   ]
  },
  {
   "cell_type": "code",
   "execution_count": 47,
   "metadata": {},
   "outputs": [
    {
     "data": {
      "text/plain": [
       "Text(0,0.5,'Nilai')"
      ]
     },
     "execution_count": 47,
     "metadata": {},
     "output_type": "execute_result"
    },
    {
     "data": {
      "image/png": "[encoded data removed]",
      "text/plain": [
       "<Figure size 360x360 with 1 Axes>"
      ]
     },
     "metadata": {
      "needs_background": "light"
     },
     "output_type": "display_data"
    }
   ],
   "source": [
    "ax = data_ekspor.groupby('tipe_entitas').sum()['nilai']\n",
    "ax = ax.plot(kind='bar', title =\"Hasil Ekspor Berdasarkan Tipe Entitas\", figsize=(5,5), legend=True, fontsize=12)\n",
    "ax.set_xlabel(\"tipe_entitas\", fontsize=12)\n",
    "ax.set_ylabel(\"Nilai\", fontsize=12)"
   ]
  },
  {
   "cell_type": "markdown",
   "metadata": {},
   "source": [
    "1.3 Total Keseluruhan Hasil Ekspor Batu Bara dari Tahun 2003 - 2010"
   ]
  },
  {
   "cell_type": "code",
   "execution_count": 50,
   "metadata": {},
   "outputs": [
    {
     "name": "stdout",
     "output_type": "stream",
     "text": [
      "881820909.3 dalam ribuan ton\n"
     ]
    }
   ],
   "source": [
    "print(data_ekspor.nilai.sum(), 'dalam ribuan ton')"
   ]
  },
  {
   "cell_type": "markdown",
   "metadata": {},
   "source": [
    "# 2. Rata - Rata Hasil Ekspor"
   ]
  },
  {
   "cell_type": "markdown",
   "metadata": {},
   "source": [
    "2.1 Rata - Rata Hasil Ekspor per Tahun"
   ]
  },
  {
   "cell_type": "code",
   "execution_count": 51,
   "metadata": {},
   "outputs": [
    {
     "name": "stdout",
     "output_type": "stream",
     "text": [
      "              nilai\n",
      "tahun              \n",
      "2003   5.499301e+06\n",
      "2004   5.247536e+06\n",
      "2005   5.942306e+06\n",
      "2006   5.345686e+06\n",
      "2007   6.192590e+06\n",
      "2008   5.360284e+06\n",
      "2009   4.950443e+06\n",
      "2010   1.591105e+06\n"
     ]
    }
   ],
   "source": [
    "print (data_ekspor.groupby(['tahun']). mean())"
   ]
  },
  {
   "cell_type": "code",
   "execution_count": 80,
   "metadata": {},
   "outputs": [
    {
     "name": "stdout",
     "output_type": "stream",
     "text": [
      "rata - rata hasil ekspor keseluruhan\n"
     ]
    },
    {
     "data": {
      "text/plain": [
       "tipe_entitas     (26.447084308908234+25.23630580619829j)\n",
       "nama_entitas    (28.577573291782084+25.708322301510833j)\n",
       "tahun                                        (2006.5+0j)\n",
       "nilai                             (4818693.493442623+0j)\n",
       "dtype: complex128"
      ]
     },
     "execution_count": 80,
     "metadata": {},
     "output_type": "execute_result"
    }
   ],
   "source": [
    "print ('rata - rata hasil ekspor keseluruhan')\n",
    "data_ekspor.mean()"
   ]
  },
  {
   "cell_type": "code",
   "execution_count": 52,
   "metadata": {},
   "outputs": [
    {
     "data": {
      "text/plain": [
       "Text(0,0.5,'Nilai')"
      ]
     },
     "execution_count": 52,
     "metadata": {},
     "output_type": "execute_result"
    },
    {
     "data": {
      "image/png": "[encoded data removed]",
      "text/plain": [
       "<Figure size 360x360 with 1 Axes>"
      ]
     },
     "metadata": {
      "needs_background": "light"
     },
     "output_type": "display_data"
    }
   ],
   "source": [
    "ax = data_ekspor.groupby('tahun').mean()['nilai']\n",
    "ax = ax.plot(kind='bar', title =\"Rata - Rata hasil Ekspor per Tahun\", figsize=(5,5), legend=True, fontsize=12)\n",
    "ax.set_xlabel(\"tipe_entitas\", fontsize=12)\n",
    "ax.set_ylabel(\"Nilai\", fontsize=12)"
   ]
  },
  {
   "cell_type": "markdown",
   "metadata": {},
   "source": [
    "2.2 Rata - Rata hasil Ekspor per Tipe Entitas"
   ]
  },
  {
   "cell_type": "code",
   "execution_count": 54,
   "metadata": {},
   "outputs": [
    {
     "name": "stdout",
     "output_type": "stream",
     "text": [
      "                            tahun         nilai\n",
      "tipe_entitas                                   \n",
      "BUMN                       2006.5  2.657694e+06\n",
      "Kontraktor                 2006.5  5.019952e+06\n",
      "Kuasa Pertambangan Swasta  2006.5  1.905965e+06\n"
     ]
    }
   ],
   "source": [
    "print (data_ekspor.groupby(['tipe_entitas']). mean())"
   ]
  },
  {
   "cell_type": "code",
   "execution_count": 69,
   "metadata": {},
   "outputs": [
    {
     "data": {
      "text/plain": [
       "Text(0,0.5,'Nilai')"
      ]
     },
     "execution_count": 69,
     "metadata": {},
     "output_type": "execute_result"
    },
    {
     "data": {
      "image/png": "[encoded data removed]",
      "text/plain": [
       "<Figure size 360x360 with 1 Axes>"
      ]
     },
     "metadata": {
      "needs_background": "light"
     },
     "output_type": "display_data"
    }
   ],
   "source": [
    "ax = data_ekspor.groupby('tipe_entitas').mean()['nilai']\n",
    "ax = ax.plot(kind='bar', title =\"Rata - Rata hasil Ekspor per Tipe Entitas\", figsize=(5,5), legend=True, fontsize=12)\n",
    "ax.set_xlabel(\"tipe_entitas\", fontsize=12)\n",
    "\n",
    "ax.set_ylabel(\"Nilai\", fontsize=12)"
   ]
  },
  {
   "cell_type": "code",
   "execution_count": 64,
   "metadata": {},
   "outputs": [
    {
     "name": "stdout",
     "output_type": "stream",
     "text": [
      "Hasil Ekspor Batu Bara tertinggi selama Tahun 2003 - 2010\n"
     ]
    },
    {
     "data": {
      "text/html": [
       "<div>\n",
       "<style scoped>\n",
       "    .dataframe tbody tr th:only-of-type {\n",
       "        vertical-align: middle;\n",
       "    }\n",
       "\n",
       "    .dataframe tbody tr th {\n",
       "        vertical-align: top;\n",
       "    }\n",
       "\n",
       "    .dataframe thead th {\n",
       "        text-align: right;\n",
       "    }\n",
       "</style>\n",
       "<table border=\"1\" class=\"dataframe\">\n",
       "  <thead>\n",
       "    <tr style=\"text-align: right;\">\n",
       "      <th></th>\n",
       "      <th>tipe_entitas</th>\n",
       "      <th>nama_entitas</th>\n",
       "      <th>tahun</th>\n",
       "      <th>nilai</th>\n",
       "    </tr>\n",
       "  </thead>\n",
       "  <tbody>\n",
       "    <tr>\n",
       "      <th>252</th>\n",
       "      <td>Kontraktor</td>\n",
       "      <td>Kaltim Prima Coal, PT</td>\n",
       "      <td>2007</td>\n",
       "      <td>37041285.0</td>\n",
       "    </tr>\n",
       "  </tbody>\n",
       "</table>\n",
       "</div>"
      ],
      "text/plain": [
       "    tipe_entitas           nama_entitas  tahun       nilai\n",
       "252   Kontraktor  Kaltim Prima Coal, PT   2007  37041285.0"
      ]
     },
     "execution_count": 64,
     "metadata": {},
     "output_type": "execute_result"
    }
   ],
   "source": [
    "print ('Hasil Ekspor Batu Bara tertinggi selama Tahun 2003 - 2010')\n",
    "data_ekspor.loc[data_ekspor['nilai']== data_ekspor.nilai.max() ]"
   ]
  },
  {
   "cell_type": "code",
   "execution_count": 67,
   "metadata": {},
   "outputs": [
    {
     "name": "stdout",
     "output_type": "stream",
     "text": [
      "Hasil Ekspor Batu Bara terendah selama Tahun 2003 - 2010\n"
     ]
    },
    {
     "data": {
      "text/html": [
       "<div>\n",
       "<style scoped>\n",
       "    .dataframe tbody tr th:only-of-type {\n",
       "        vertical-align: middle;\n",
       "    }\n",
       "\n",
       "    .dataframe tbody tr th {\n",
       "        vertical-align: top;\n",
       "    }\n",
       "\n",
       "    .dataframe thead th {\n",
       "        text-align: right;\n",
       "    }\n",
       "</style>\n",
       "<table border=\"1\" class=\"dataframe\">\n",
       "  <thead>\n",
       "    <tr style=\"text-align: right;\">\n",
       "      <th></th>\n",
       "      <th>tipe_entitas</th>\n",
       "      <th>nama_entitas</th>\n",
       "      <th>tahun</th>\n",
       "      <th>nilai</th>\n",
       "    </tr>\n",
       "  </thead>\n",
       "  <tbody>\n",
       "    <tr>\n",
       "      <th>73</th>\n",
       "      <td>Kontraktor</td>\n",
       "      <td>Gunung Bayan Pratamacoal, PT</td>\n",
       "      <td>2004</td>\n",
       "      <td>1149.8</td>\n",
       "    </tr>\n",
       "  </tbody>\n",
       "</table>\n",
       "</div>"
      ],
      "text/plain": [
       "   tipe_entitas                  nama_entitas  tahun   nilai\n",
       "73   Kontraktor  Gunung Bayan Pratamacoal, PT   2004  1149.8"
      ]
     },
     "execution_count": 67,
     "metadata": {},
     "output_type": "execute_result"
    }
   ],
   "source": [
    "print('Hasil Ekspor Batu Bara terendah selama Tahun 2003 - 2010')\n",
    "data_ekspor.loc[data_ekspor['nilai']== data_ekspor.nilai.min() ]"
   ]
  },
  {
   "cell_type": "markdown",
   "metadata": {},
   "source": [
    "# Narasi Analisis"
   ]
  },
  {
   "cell_type": "markdown",
   "metadata": {},
   "source": [
    "Selama Tahun 2003 - 2010 Hasil Ekspor Batu Bara yaitu 881820909.3 (dalam ribuan ton) dengan rata - rata tiap tiap Tahun sekitar 5 juta ton.\n",
    "<br> Hasil Ekspor terbesar yaitu Tahun 2007 dan terendah tahun 2010\n",
    "<br> Kontraktor adalah penyumbang terbesar dalam Hasil Ekspor Batu Bara selama tahun 2003 - 2010\n",
    "<br> Ini juga ditunjukkan dengan PT. Kaltim Prima Coal yang hasil ekspor batu bara nya tertinggi pada tahun 2007.\n"
   ]
  },
  {
   "cell_type": "code",
   "execution_count": null,
   "metadata": {},
   "outputs": [],
   "source": []
  }
 ],
 "metadata": {
  "kernelspec": {
   "display_name": "Python 3",
   "language": "python",
   "name": "python3"
  },
  "language_info": {
   "codemirror_mode": {
    "name": "ipython",
    "version": 3
   },
   "file_extension": ".py",
   "mimetype": "text/x-python",
   "name": "python",
   "nbconvert_exporter": "python",
   "pygments_lexer": "ipython3",
   "version": "3.7.0"
  }
 },
 "nbformat": 4,
 "nbformat_minor": 2
}
